{
 "cells": [
  {
   "cell_type": "code",
   "execution_count": 17,
   "id": "84581f7f-abc4-4d10-acd0-2b314a8332db",
   "metadata": {},
   "outputs": [
    {
     "data": {
      "text/html": [
       "<span style=\"None\">Running query in &#x27;sqlite:///catcafes.db&#x27;</span>"
      ],
      "text/plain": [
       "Running query in 'sqlite:///catcafes.db'"
      ]
     },
     "metadata": {},
     "output_type": "display_data"
    },
    {
     "data": {
      "text/html": [
       "<table>\n",
       "    <thead>\n",
       "        <tr>\n",
       "            <th>name</th>\n",
       "        </tr>\n",
       "    </thead>\n",
       "    <tbody>\n",
       "        <tr>\n",
       "            <td>Angel</td>\n",
       "        </tr>\n",
       "        <tr>\n",
       "            <td>Bella</td>\n",
       "        </tr>\n",
       "        <tr>\n",
       "            <td>Berlioz</td>\n",
       "        </tr>\n",
       "        <tr>\n",
       "            <td>Carlos</td>\n",
       "        </tr>\n",
       "        <tr>\n",
       "            <td>Chanel</td>\n",
       "        </tr>\n",
       "        <tr>\n",
       "            <td>Charlotte</td>\n",
       "        </tr>\n",
       "        <tr>\n",
       "            <td>Charly</td>\n",
       "        </tr>\n",
       "        <tr>\n",
       "            <td>Georges</td>\n",
       "        </tr>\n",
       "        <tr>\n",
       "            <td>Jack</td>\n",
       "        </tr>\n",
       "        <tr>\n",
       "            <td>Jiji</td>\n",
       "        </tr>\n",
       "    </tbody>\n",
       "</table>\n",
       "<span style=\"font-style:italic;text-align:center;\">Truncated to <a href=\"https://jupysql.ploomber.io/en/latest/api/configuration.html#displaylimit\">displaylimit</a> of 10.</span>"
      ],
      "text/plain": [
       "+-----------+\n",
       "|    name   |\n",
       "+-----------+\n",
       "|   Angel   |\n",
       "|   Bella   |\n",
       "|  Berlioz  |\n",
       "|   Carlos  |\n",
       "|   Chanel  |\n",
       "| Charlotte |\n",
       "|   Charly  |\n",
       "|  Georges  |\n",
       "|    Jack   |\n",
       "|    Jiji   |\n",
       "+-----------+\n",
       "Truncated to displaylimit of 10."
      ]
     },
     "execution_count": 17,
     "metadata": {},
     "output_type": "execute_result"
    }
   ],
   "source": [
    "%%sql\n",
    "SELECT name\n",
    "FROM cat\n",
    "WHERE weight > 9\n",
    "ORDER BY name ASC"
   ]
  },
  {
   "cell_type": "code",
   "execution_count": 22,
   "id": "07f58c47-f780-485e-910b-08738d13068c",
   "metadata": {},
   "outputs": [
    {
     "data": {
      "text/html": [
       "<span style=\"None\">Running query in &#x27;sqlite:///catcafes.db&#x27;</span>"
      ],
      "text/plain": [
       "Running query in 'sqlite:///catcafes.db'"
      ]
     },
     "metadata": {},
     "output_type": "display_data"
    },
    {
     "data": {
      "text/html": [
       "<table>\n",
       "    <thead>\n",
       "        <tr>\n",
       "            <th>name</th>\n",
       "        </tr>\n",
       "    </thead>\n",
       "    <tbody>\n",
       "        <tr>\n",
       "            <td>Charly</td>\n",
       "        </tr>\n",
       "        <tr>\n",
       "            <td>Jack</td>\n",
       "        </tr>\n",
       "        <tr>\n",
       "            <td>Jiji</td>\n",
       "        </tr>\n",
       "        <tr>\n",
       "            <td>Mimi</td>\n",
       "        </tr>\n",
       "        <tr>\n",
       "            <td>Sylvester</td>\n",
       "        </tr>\n",
       "    </tbody>\n",
       "</table>"
      ],
      "text/plain": [
       "+-----------+\n",
       "|    name   |\n",
       "+-----------+\n",
       "|   Charly  |\n",
       "|    Jack   |\n",
       "|    Jiji   |\n",
       "|    Mimi   |\n",
       "| Sylvester |\n",
       "+-----------+"
      ]
     },
     "execution_count": 22,
     "metadata": {},
     "output_type": "execute_result"
    }
   ],
   "source": [
    "%%sql\n",
    "SELECT name\n",
    "FROM cat\n",
    "WHERE weight > 9 AND color = 'black' OR 'white'\n",
    "ORDER BY name ASC"
   ]
  },
  {
   "cell_type": "code",
   "execution_count": 38,
   "id": "74c4e808-c407-4553-9456-2d14032a25ab",
   "metadata": {},
   "outputs": [
    {
     "data": {
      "text/html": [
       "<span style=\"None\">Running query in &#x27;sqlite:///catcafes.db&#x27;</span>"
      ],
      "text/plain": [
       "Running query in 'sqlite:///catcafes.db'"
      ]
     },
     "metadata": {},
     "output_type": "display_data"
    },
    {
     "data": {
      "text/html": [
       "<table>\n",
       "    <thead>\n",
       "        <tr>\n",
       "            <th>name</th>\n",
       "        </tr>\n",
       "    </thead>\n",
       "    <tbody>\n",
       "        <tr>\n",
       "            <td>Charly</td>\n",
       "        </tr>\n",
       "        <tr>\n",
       "            <td>Jack</td>\n",
       "        </tr>\n",
       "        <tr>\n",
       "            <td>Jiji</td>\n",
       "        </tr>\n",
       "        <tr>\n",
       "            <td>Mimi</td>\n",
       "        </tr>\n",
       "        <tr>\n",
       "            <td>Sylvester</td>\n",
       "        </tr>\n",
       "    </tbody>\n",
       "</table>"
      ],
      "text/plain": [
       "+-----------+\n",
       "|    name   |\n",
       "+-----------+\n",
       "|   Charly  |\n",
       "|    Jack   |\n",
       "|    Jiji   |\n",
       "|    Mimi   |\n",
       "| Sylvester |\n",
       "+-----------+"
      ]
     },
     "execution_count": 38,
     "metadata": {},
     "output_type": "execute_result"
    }
   ],
   "source": [
    "%%sql\n",
    "SELECT name\n",
    "FROM cat\n",
    "WHERE weight > 9 AND color = 'black' OR 'white'\n",
    "ORDER BY name ASC\n",
    "LIMIT 8"
   ]
  },
  {
   "cell_type": "markdown",
   "id": "f01ab234-3c9b-48b3-b515-cb1d6473d89f",
   "metadata": {},
   "source": [
    "# task 4"
   ]
  },
  {
   "cell_type": "code",
   "execution_count": 49,
   "id": "80281099-02fa-41c8-a615-aa047b5fdded",
   "metadata": {},
   "outputs": [
    {
     "data": {
      "text/html": [
       "<span style=\"None\">Running query in &#x27;sqlite:///catcafes.db&#x27;</span>"
      ],
      "text/plain": [
       "Running query in 'sqlite:///catcafes.db'"
      ]
     },
     "metadata": {},
     "output_type": "display_data"
    },
    {
     "data": {
      "text/html": [
       "<table>\n",
       "    <thead>\n",
       "        <tr>\n",
       "            <th>color</th>\n",
       "            <th>max(weight)</th>\n",
       "        </tr>\n",
       "    </thead>\n",
       "    <tbody>\n",
       "        <tr>\n",
       "            <td>brown</td>\n",
       "            <td>10.88</td>\n",
       "        </tr>\n",
       "        <tr>\n",
       "            <td>cinnamon</td>\n",
       "            <td>11.37</td>\n",
       "        </tr>\n",
       "        <tr>\n",
       "            <td>lilac</td>\n",
       "            <td>10.76</td>\n",
       "        </tr>\n",
       "        <tr>\n",
       "            <td>red</td>\n",
       "            <td>12</td>\n",
       "        </tr>\n",
       "    </tbody>\n",
       "</table>"
      ],
      "text/plain": [
       "+----------+-------------+\n",
       "|  color   | max(weight) |\n",
       "+----------+-------------+\n",
       "|  brown   |    10.88    |\n",
       "| cinnamon |    11.37    |\n",
       "|  lilac   |    10.76    |\n",
       "|   red    |      12     |\n",
       "+----------+-------------+"
      ]
     },
     "execution_count": 49,
     "metadata": {},
     "output_type": "execute_result"
    }
   ],
   "source": [
    "%%sql\n",
    "SELECT color, max(weight)\n",
    "FROM cat\n",
    "GROUP BY color\n",
    "HAVING max(weight) > 10.5;"
   ]
  },
  {
   "cell_type": "markdown",
   "id": "7be22399-20e2-4576-a8eb-55dab11cd2f1",
   "metadata": {},
   "source": [
    "# task 5"
   ]
  },
  {
   "cell_type": "code",
   "execution_count": 46,
   "id": "44052f69-388c-4852-8055-fb0822339ab5",
   "metadata": {},
   "outputs": [
    {
     "data": {
      "text/html": [
       "<span style=\"None\">Running query in &#x27;sqlite:///catcafes.db&#x27;</span>"
      ],
      "text/plain": [
       "Running query in 'sqlite:///catcafes.db'"
      ]
     },
     "metadata": {},
     "output_type": "display_data"
    },
    {
     "data": {
      "text/html": [
       "<table>\n",
       "    <thead>\n",
       "        <tr>\n",
       "            <th>name</th>\n",
       "            <th>cafe_id</th>\n",
       "        </tr>\n",
       "    </thead>\n",
       "    <tbody>\n",
       "    </tbody>\n",
       "</table>"
      ],
      "text/plain": [
       "+------+---------+\n",
       "| name | cafe_id |\n",
       "+------+---------+\n",
       "+------+---------+"
      ]
     },
     "execution_count": 46,
     "metadata": {},
     "output_type": "execute_result"
    }
   ],
   "source": [
    "%%sql\n",
    "SELECT cat.name, cat_cafe.cafe_id\n",
    "FROM cat\n",
    "JOIN cat_cafe ON cat.name = cat_cafe.active\n",
    "WHERE cat.pattern = 'tortoiseshell' AND cat_cafe.active = True"
   ]
  },
  {
   "cell_type": "markdown",
   "id": "2a16edc9-31e9-4001-af33-60b190d563dc",
   "metadata": {},
   "source": [
    "# task 6"
   ]
  },
  {
   "cell_type": "code",
   "execution_count": 50,
   "id": "35213992-743f-4cb6-9b3d-5877409850c0",
   "metadata": {},
   "outputs": [
    {
     "data": {
      "text/html": [
       "<span style=\"None\">Running query in &#x27;sqlite:///catcafes.db&#x27;</span>"
      ],
      "text/plain": [
       "Running query in 'sqlite:///catcafes.db'"
      ]
     },
     "metadata": {},
     "output_type": "display_data"
    },
    {
     "data": {
      "text/html": [
       "<table>\n",
       "    <thead>\n",
       "        <tr>\n",
       "            <th>name</th>\n",
       "            <th>cafe_id</th>\n",
       "        </tr>\n",
       "    </thead>\n",
       "    <tbody>\n",
       "        <tr>\n",
       "            <td>Luna</td>\n",
       "            <td>2</td>\n",
       "        </tr>\n",
       "        <tr>\n",
       "            <td>Angel</td>\n",
       "            <td>4</td>\n",
       "        </tr>\n",
       "        <tr>\n",
       "            <td>Moritz</td>\n",
       "            <td>2</td>\n",
       "        </tr>\n",
       "        <tr>\n",
       "            <td>O'Malley</td>\n",
       "            <td>3</td>\n",
       "        </tr>\n",
       "        <tr>\n",
       "            <td>Lafayette</td>\n",
       "            <td>5</td>\n",
       "        </tr>\n",
       "    </tbody>\n",
       "</table>"
      ],
      "text/plain": [
       "+-----------+---------+\n",
       "|    name   | cafe_id |\n",
       "+-----------+---------+\n",
       "|    Luna   |    2    |\n",
       "|   Angel   |    4    |\n",
       "|   Moritz  |    2    |\n",
       "|  O'Malley |    3    |\n",
       "| Lafayette |    5    |\n",
       "+-----------+---------+"
      ]
     },
     "execution_count": 50,
     "metadata": {},
     "output_type": "execute_result"
    }
   ],
   "source": [
    "%%sql\n",
    "    SELECT cat.name, cat_cafe.cafe_id\n",
    "    FROM cat\n",
    "    JOIN cat_cafe ON cat.id = cat_cafe.cat_id\n",
    "    WHERE cat.pattern = 'tortoiseshell' AND cat_cafe.active = true;"
   ]
  },
  {
   "cell_type": "markdown",
   "id": "4599cce5-c256-43bb-bd9c-0774c09a19f5",
   "metadata": {},
   "source": [
    "# task 6"
   ]
  },
  {
   "cell_type": "code",
   "execution_count": null,
   "id": "403a7859-999c-4789-b282-c697456a2839",
   "metadata": {},
   "outputs": [],
   "source": []
  },
  {
   "cell_type": "code",
   "execution_count": null,
   "id": "2eefca79-f8be-41d5-8522-4c6993d9eb10",
   "metadata": {},
   "outputs": [],
   "source": []
  },
  {
   "cell_type": "code",
   "execution_count": 53,
   "id": "5e64fb9d-dc41-4d0a-bae1-38481a7ef003",
   "metadata": {},
   "outputs": [
    {
     "data": {
      "text/html": [
       "<span style=\"None\">Running query in &#x27;sqlite:///catcafes.db&#x27;</span>"
      ],
      "text/plain": [
       "Running query in 'sqlite:///catcafes.db'"
      ]
     },
     "metadata": {},
     "output_type": "display_data"
    },
    {
     "data": {
      "text/html": [
       "<table>\n",
       "    <thead>\n",
       "        <tr>\n",
       "            <th>name</th>\n",
       "            <th>name_1</th>\n",
       "        </tr>\n",
       "    </thead>\n",
       "    <tbody>\n",
       "    </tbody>\n",
       "</table>"
      ],
      "text/plain": [
       "+------+--------+\n",
       "| name | name_1 |\n",
       "+------+--------+\n",
       "+------+--------+"
      ]
     },
     "execution_count": 53,
     "metadata": {},
     "output_type": "execute_result"
    }
   ],
   "source": [
    "%%sql\n",
    "SELECT cat.name, cafe.name\n",
    "FROM cat\n",
    "JOIN cat_cafe ON cat.id = cat_cafe.cat_id\n",
    "JOIN cafe ON cat.name = cafe.name\n",
    "WHERE cat.pattern = 'tortoiseshell' AND cat_cafe.active = true"
   ]
  },
  {
   "cell_type": "code",
   "execution_count": 54,
   "id": "ea9a4e87-3b33-4543-82b3-eab2d8b5c519",
   "metadata": {},
   "outputs": [
    {
     "data": {
      "text/html": [
       "<span style=\"None\">Running query in &#x27;sqlite:///catcafes.db&#x27;</span>"
      ],
      "text/plain": [
       "Running query in 'sqlite:///catcafes.db'"
      ]
     },
     "metadata": {},
     "output_type": "display_data"
    },
    {
     "data": {
      "text/html": [
       "<table>\n",
       "    <thead>\n",
       "        <tr>\n",
       "            <th>name</th>\n",
       "            <th>name_1</th>\n",
       "        </tr>\n",
       "    </thead>\n",
       "    <tbody>\n",
       "        <tr>\n",
       "            <td>Luna</td>\n",
       "            <td>Independent Claws</td>\n",
       "        </tr>\n",
       "        <tr>\n",
       "            <td>Angel</td>\n",
       "            <td>Tall Tails</td>\n",
       "        </tr>\n",
       "        <tr>\n",
       "            <td>Moritz</td>\n",
       "            <td>Independent Claws</td>\n",
       "        </tr>\n",
       "        <tr>\n",
       "            <td>O'Malley</td>\n",
       "            <td>Paws and Play</td>\n",
       "        </tr>\n",
       "        <tr>\n",
       "            <td>Lafayette</td>\n",
       "            <td>Cats Meow</td>\n",
       "        </tr>\n",
       "    </tbody>\n",
       "</table>"
      ],
      "text/plain": [
       "+-----------+-------------------+\n",
       "|    name   |       name_1      |\n",
       "+-----------+-------------------+\n",
       "|    Luna   | Independent Claws |\n",
       "|   Angel   |     Tall Tails    |\n",
       "|   Moritz  | Independent Claws |\n",
       "|  O'Malley |   Paws and Play   |\n",
       "| Lafayette |     Cats Meow     |\n",
       "+-----------+-------------------+"
      ]
     },
     "execution_count": 54,
     "metadata": {},
     "output_type": "execute_result"
    }
   ],
   "source": [
    "%%sql\n",
    "SELECT cat.name, cafe.name\n",
    "FROM cat\n",
    "JOIN cat_cafe ON cat.id = cat_cafe.cat_id\n",
    "JOIN cafe ON cat_cafe.cafe_id = cafe.id\n",
    "WHERE cat.pattern = 'tortoiseshell' AND cat_cafe.active = true;"
   ]
  },
  {
   "cell_type": "code",
   "execution_count": 58,
   "id": "65570a4b-ea2d-46af-8a92-25ef72ebabd7",
   "metadata": {},
   "outputs": [
    {
     "data": {
      "text/html": [
       "<span style=\"None\">Running query in &#x27;sqlite:///catcafes.db&#x27;</span>"
      ],
      "text/plain": [
       "Running query in 'sqlite:///catcafes.db'"
      ]
     },
     "metadata": {},
     "output_type": "display_data"
    },
    {
     "name": "stderr",
     "output_type": "stream",
     "text": [
      "RuntimeError: (sqlite3.OperationalError) no such column: cafe.zipcode\n",
      "[SQL: SELECT DISTINCT(cafe.zipcode)\n",
      "FROM cat\n",
      "JOIN cat_cafe ON cat_cafe.cafe_id = cafe.id\n",
      "WHERE cat.color = 'lilac' AND cat.pattern = 'tabby' AND cat_cafe.active = true]\n",
      "(Background on this error at: https://sqlalche.me/e/20/e3q8)\n",
      "If you need help solving this issue, send us a message: https://ploomber.io/community\n"
     ]
    }
   ],
   "source": [
    "%%sql\n",
    "SELECT DISTINCT(cafe.zipcode)\n",
    "FROM cat\n",
    "JOIN cat_cafe ON cat_cafe.cafe_id = cafe.id\n",
    "WHERE cat.color = 'lilac' AND cat.pattern = 'tabby' AND cat_cafe.active = true"
   ]
  },
  {
   "cell_type": "code",
   "execution_count": 59,
   "id": "f0eb3dfb-b277-4dc9-9dc4-0c3c3aac4ee6",
   "metadata": {},
   "outputs": [
    {
     "data": {
      "text/html": [
       "<span style=\"None\">Running query in &#x27;sqlite:///catcafes.db&#x27;</span>"
      ],
      "text/plain": [
       "Running query in 'sqlite:///catcafes.db'"
      ]
     },
     "metadata": {},
     "output_type": "display_data"
    },
    {
     "data": {
      "text/html": [
       "<table>\n",
       "    <thead>\n",
       "        <tr>\n",
       "            <th>zipcode</th>\n",
       "        </tr>\n",
       "    </thead>\n",
       "    <tbody>\n",
       "        <tr>\n",
       "            <td>11215</td>\n",
       "        </tr>\n",
       "        <tr>\n",
       "            <td>11237</td>\n",
       "        </tr>\n",
       "    </tbody>\n",
       "</table>"
      ],
      "text/plain": [
       "+---------+\n",
       "| zipcode |\n",
       "+---------+\n",
       "|  11215  |\n",
       "|  11237  |\n",
       "+---------+"
      ]
     },
     "execution_count": 59,
     "metadata": {},
     "output_type": "execute_result"
    }
   ],
   "source": [
    "%%sql\n",
    "    SELECT DISTINCT cafe.zipcode\n",
    "FROM cat\n",
    "JOIN cat_cafe ON cat.id = cat_cafe.cat_id\n",
    "JOIN cafe ON cat_cafe.cafe_id = cafe.id\n",
    "WHERE cat.color = 'lilac' \n",
    "  AND cat.pattern = 'tabby' \n",
    "  AND cat_cafe.active = true;"
   ]
  },
  {
   "cell_type": "code",
   "execution_count": 61,
   "id": "336cc89c-7a7d-41d6-87fe-ead04db8e0cd",
   "metadata": {},
   "outputs": [
    {
     "data": {
      "text/html": [
       "<span style=\"None\">Running query in &#x27;sqlite:///catcafes.db&#x27;</span>"
      ],
      "text/plain": [
       "Running query in 'sqlite:///catcafes.db'"
      ]
     },
     "metadata": {},
     "output_type": "display_data"
    },
    {
     "data": {
      "text/html": [
       "<table>\n",
       "    <thead>\n",
       "        <tr>\n",
       "            <th>name</th>\n",
       "            <th>avg(cat.weight)</th>\n",
       "        </tr>\n",
       "    </thead>\n",
       "    <tbody>\n",
       "        <tr>\n",
       "            <td>Cats Meow</td>\n",
       "            <td>9.42909090909091</td>\n",
       "        </tr>\n",
       "        <tr>\n",
       "            <td>Hang In There</td>\n",
       "            <td>9.412</td>\n",
       "        </tr>\n",
       "        <tr>\n",
       "            <td>Independent Claws</td>\n",
       "            <td>9.40857142857143</td>\n",
       "        </tr>\n",
       "        <tr>\n",
       "            <td>Paws and Play</td>\n",
       "            <td>9.517333333333333</td>\n",
       "        </tr>\n",
       "        <tr>\n",
       "            <td>Tall Tails</td>\n",
       "            <td>9.50625</td>\n",
       "        </tr>\n",
       "    </tbody>\n",
       "</table>"
      ],
      "text/plain": [
       "+-------------------+-------------------+\n",
       "|        name       |  avg(cat.weight)  |\n",
       "+-------------------+-------------------+\n",
       "|     Cats Meow     |  9.42909090909091 |\n",
       "|   Hang In There   |       9.412       |\n",
       "| Independent Claws |  9.40857142857143 |\n",
       "|   Paws and Play   | 9.517333333333333 |\n",
       "|     Tall Tails    |      9.50625      |\n",
       "+-------------------+-------------------+"
      ]
     },
     "execution_count": 61,
     "metadata": {},
     "output_type": "execute_result"
    }
   ],
   "source": [
    "%%sql\n",
    "SELECT cafe.name, avg(cat.weight)\n",
    "FROM cat\n",
    "JOIN cat_cafe ON cat.id = cat_cafe.cat_id\n",
    "JOIN cafe ON cat_cafe.cafe_id = cafe.id\n",
    "GROUP BY cafe.name"
   ]
  },
  {
   "cell_type": "code",
   "execution_count": 64,
   "id": "46b31dcc-8a58-4cea-9490-ff65e296e1df",
   "metadata": {},
   "outputs": [
    {
     "data": {
      "text/html": [
       "<span style=\"None\">Running query in &#x27;sqlite:///catcafes.db&#x27;</span>"
      ],
      "text/plain": [
       "Running query in 'sqlite:///catcafes.db'"
      ]
     },
     "metadata": {},
     "output_type": "display_data"
    },
    {
     "data": {
      "text/html": [
       "<table>\n",
       "    <thead>\n",
       "        <tr>\n",
       "            <th>name</th>\n",
       "            <th>count(cat.name)</th>\n",
       "        </tr>\n",
       "    </thead>\n",
       "    <tbody>\n",
       "        <tr>\n",
       "            <td>Independent Claws</td>\n",
       "            <td>4</td>\n",
       "        </tr>\n",
       "        <tr>\n",
       "            <td>Tall Tails</td>\n",
       "            <td>3</td>\n",
       "        </tr>\n",
       "        <tr>\n",
       "            <td>Paws and Play</td>\n",
       "            <td>1</td>\n",
       "        </tr>\n",
       "        <tr>\n",
       "            <td>Hang In There</td>\n",
       "            <td>1</td>\n",
       "        </tr>\n",
       "        <tr>\n",
       "            <td>Cats Meow</td>\n",
       "            <td>1</td>\n",
       "        </tr>\n",
       "    </tbody>\n",
       "</table>"
      ],
      "text/plain": [
       "+-------------------+-----------------+\n",
       "|        name       | count(cat.name) |\n",
       "+-------------------+-----------------+\n",
       "| Independent Claws |        4        |\n",
       "|     Tall Tails    |        3        |\n",
       "|   Paws and Play   |        1        |\n",
       "|   Hang In There   |        1        |\n",
       "|     Cats Meow     |        1        |\n",
       "+-------------------+-----------------+"
      ]
     },
     "execution_count": 64,
     "metadata": {},
     "output_type": "execute_result"
    }
   ],
   "source": [
    "%%sql\n",
    "    SELECT cafe.name, count(cat.name)\n",
    "    FROM cat\n",
    "    JOIN cat_cafe ON cat.id = cat_cafe.cat_id\n",
    "    JOIN cafe ON cat_cafe.cafe_id = cafe.id\n",
    "    WHERE cat.pattern = 'tortoiseshell'\n",
    "    GROUP BY cafe.name\n",
    "    ORDER BY count(cat.name) DESC"
   ]
  },
  {
   "cell_type": "code",
   "execution_count": 70,
   "id": "ecfa30f0-89cf-4852-983b-96e7a66d706e",
   "metadata": {},
   "outputs": [
    {
     "data": {
      "text/html": [
       "<span style=\"None\">Running query in &#x27;sqlite:///catcafes.db&#x27;</span>"
      ],
      "text/plain": [
       "Running query in 'sqlite:///catcafes.db'"
      ]
     },
     "metadata": {},
     "output_type": "display_data"
    }
   ],
   "source": [
    "cat_weight = %sql SELECT weight FROM cat"
   ]
  },
  {
   "cell_type": "code",
   "execution_count": 71,
   "id": "3ffd9a9e-5803-42f2-aee1-3851867766a8",
   "metadata": {},
   "outputs": [],
   "source": [
    "import pandas as pd\n",
    "df = cat_weight.DataFrame()"
   ]
  },
  {
   "cell_type": "code",
   "execution_count": 72,
   "id": "482a9742-f956-4e15-b555-6ac5be562c9a",
   "metadata": {},
   "outputs": [],
   "source": [
    "import matplotlib.pyplot as plt"
   ]
  },
  {
   "cell_type": "code",
   "execution_count": 75,
   "id": "c85dd652-6df2-49af-94e2-3819b52a778c",
   "metadata": {},
   "outputs": [
    {
     "data": {
      "text/plain": [
       "(array([ 2.,  3.,  8., 11.,  9.,  4.,  2.,  1.]),\n",
       " array([ 7.18  ,  7.7825,  8.385 ,  8.9875,  9.59  , 10.1925, 10.795 ,\n",
       "        11.3975, 12.    ]),\n",
       " <BarContainer object of 8 artists>)"
      ]
     },
     "execution_count": 75,
     "metadata": {},
     "output_type": "execute_result"
    },
    {
     "data": {
      "image/png": "[encoded data removed]",
      "text/plain": [
       "<Figure size 640x480 with 1 Axes>"
      ]
     },
     "metadata": {},
     "output_type": "display_data"
    }
   ],
   "source": [
    "plt.hist(df['weight'], bins=8)"
   ]
  }
 ],
 "metadata": {
  "kernelspec": {
   "display_name": "Python 3 (ipykernel)",
   "language": "python",
   "name": "python3"
  },
  "language_info": {
   "codemirror_mode": {
    "name": "ipython",
    "version": 3
   },
   "file_extension": ".py",
   "mimetype": "text/x-python",
   "name": "python",
   "nbconvert_exporter": "python",
   "pygments_lexer": "ipython3",
   "version": "3.12.6"
  }
 },
 "nbformat": 4,
 "nbformat_minor": 5
}
